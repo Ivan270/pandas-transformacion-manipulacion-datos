{
 "cells": [
  {
   "cell_type": "markdown",
   "id": "20c398e9",
   "metadata": {},
   "source": [
    "# Transformando datos de tiempo"
   ]
  }
 ],
 "metadata": {
  "kernelspec": {
   "display_name": ".venv",
   "language": "python",
   "name": "python3"
  },
  "language_info": {
   "name": "python",
   "version": "3.13.2"
  }
 },
 "nbformat": 4,
 "nbformat_minor": 5
}
