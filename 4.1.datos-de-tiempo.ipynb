{
 "cells": [
  {
   "cell_type": "markdown",
   "id": "20c398e9",
   "metadata": {},
   "source": [
    "# Transformando datos de tiempo"
   ]
  },
  {
   "cell_type": "code",
   "execution_count": 48,
   "id": "17632aff",
   "metadata": {},
   "outputs": [
    {
     "data": {
      "text/html": [
       "<div>\n",
       "<style scoped>\n",
       "    .dataframe tbody tr th:only-of-type {\n",
       "        vertical-align: middle;\n",
       "    }\n",
       "\n",
       "    .dataframe tbody tr th {\n",
       "        vertical-align: top;\n",
       "    }\n",
       "\n",
       "    .dataframe thead th {\n",
       "        text-align: right;\n",
       "    }\n",
       "</style>\n",
       "<table border=\"1\" class=\"dataframe\">\n",
       "  <thead>\n",
       "    <tr style=\"text-align: right;\">\n",
       "      <th></th>\n",
       "      <th>id</th>\n",
       "      <th>fecha</th>\n",
       "      <th>lugar_disponible</th>\n",
       "      <th>precio</th>\n",
       "    </tr>\n",
       "  </thead>\n",
       "  <tbody>\n",
       "    <tr>\n",
       "      <th>0</th>\n",
       "      <td>857</td>\n",
       "      <td>2016-01-04</td>\n",
       "      <td>False</td>\n",
       "      <td>None</td>\n",
       "    </tr>\n",
       "    <tr>\n",
       "      <th>1</th>\n",
       "      <td>857</td>\n",
       "      <td>2016-01-05</td>\n",
       "      <td>False</td>\n",
       "      <td>None</td>\n",
       "    </tr>\n",
       "    <tr>\n",
       "      <th>2</th>\n",
       "      <td>857</td>\n",
       "      <td>2016-01-06</td>\n",
       "      <td>False</td>\n",
       "      <td>None</td>\n",
       "    </tr>\n",
       "    <tr>\n",
       "      <th>3</th>\n",
       "      <td>857</td>\n",
       "      <td>2016-01-07</td>\n",
       "      <td>False</td>\n",
       "      <td>None</td>\n",
       "    </tr>\n",
       "    <tr>\n",
       "      <th>4</th>\n",
       "      <td>857</td>\n",
       "      <td>2016-01-08</td>\n",
       "      <td>False</td>\n",
       "      <td>None</td>\n",
       "    </tr>\n",
       "  </tbody>\n",
       "</table>\n",
       "</div>"
      ],
      "text/plain": [
       "    id       fecha  lugar_disponible precio\n",
       "0  857  2016-01-04             False   None\n",
       "1  857  2016-01-05             False   None\n",
       "2  857  2016-01-06             False   None\n",
       "3  857  2016-01-07             False   None\n",
       "4  857  2016-01-08             False   None"
      ]
     },
     "execution_count": 48,
     "metadata": {},
     "output_type": "execute_result"
    }
   ],
   "source": [
    "import pandas as pd\n",
    "import numpy as np\n",
    "dt_data = pd.read_json('data/inmuebles_disponibles.json')\n",
    "\n",
    "dt_data.head()"
   ]
  },
  {
   "cell_type": "code",
   "execution_count": 49,
   "id": "87a235f2",
   "metadata": {},
   "outputs": [
    {
     "name": "stdout",
     "output_type": "stream",
     "text": [
      "<class 'pandas.core.frame.DataFrame'>\n",
      "Index: 365000 entries, 0 to 364999\n",
      "Data columns (total 4 columns):\n",
      " #   Column            Non-Null Count   Dtype \n",
      "---  ------            --------------   ----- \n",
      " 0   id                365000 non-null  int64 \n",
      " 1   fecha             365000 non-null  object\n",
      " 2   lugar_disponible  365000 non-null  bool  \n",
      " 3   precio            270547 non-null  object\n",
      "dtypes: bool(1), int64(1), object(2)\n",
      "memory usage: 11.5+ MB\n"
     ]
    }
   ],
   "source": [
    "dt_data.info()"
   ]
  },
  {
   "cell_type": "code",
   "execution_count": 50,
   "id": "fc1f3a8c",
   "metadata": {},
   "outputs": [],
   "source": [
    "dt_data[\"fecha\"] = pd.to_datetime(dt_data[\"fecha\"])"
   ]
  },
  {
   "cell_type": "code",
   "execution_count": 51,
   "id": "bc310542",
   "metadata": {},
   "outputs": [
    {
     "name": "stdout",
     "output_type": "stream",
     "text": [
      "<class 'pandas.core.frame.DataFrame'>\n",
      "Index: 365000 entries, 0 to 364999\n",
      "Data columns (total 4 columns):\n",
      " #   Column            Non-Null Count   Dtype         \n",
      "---  ------            --------------   -----         \n",
      " 0   id                365000 non-null  int64         \n",
      " 1   fecha             365000 non-null  datetime64[ns]\n",
      " 2   lugar_disponible  365000 non-null  bool          \n",
      " 3   precio            270547 non-null  object        \n",
      "dtypes: bool(1), datetime64[ns](1), int64(1), object(1)\n",
      "memory usage: 11.5+ MB\n"
     ]
    }
   ],
   "source": [
    "dt_data.info()"
   ]
  },
  {
   "cell_type": "markdown",
   "id": "6ac2e797",
   "metadata": {},
   "source": [
    "# Manipulando datos de tiempo"
   ]
  },
  {
   "cell_type": "code",
   "execution_count": 52,
   "id": "8a932607",
   "metadata": {},
   "outputs": [
    {
     "data": {
      "text/html": [
       "<div>\n",
       "<style scoped>\n",
       "    .dataframe tbody tr th:only-of-type {\n",
       "        vertical-align: middle;\n",
       "    }\n",
       "\n",
       "    .dataframe tbody tr th {\n",
       "        vertical-align: top;\n",
       "    }\n",
       "\n",
       "    .dataframe thead th {\n",
       "        text-align: right;\n",
       "    }\n",
       "</style>\n",
       "<table border=\"1\" class=\"dataframe\">\n",
       "  <thead>\n",
       "    <tr style=\"text-align: right;\">\n",
       "      <th></th>\n",
       "      <th>id</th>\n",
       "      <th>fecha</th>\n",
       "      <th>lugar_disponible</th>\n",
       "      <th>precio</th>\n",
       "    </tr>\n",
       "  </thead>\n",
       "  <tbody>\n",
       "    <tr>\n",
       "      <th>0</th>\n",
       "      <td>857</td>\n",
       "      <td>2016-01-04</td>\n",
       "      <td>False</td>\n",
       "      <td>None</td>\n",
       "    </tr>\n",
       "    <tr>\n",
       "      <th>1</th>\n",
       "      <td>857</td>\n",
       "      <td>2016-01-05</td>\n",
       "      <td>False</td>\n",
       "      <td>None</td>\n",
       "    </tr>\n",
       "    <tr>\n",
       "      <th>2</th>\n",
       "      <td>857</td>\n",
       "      <td>2016-01-06</td>\n",
       "      <td>False</td>\n",
       "      <td>None</td>\n",
       "    </tr>\n",
       "    <tr>\n",
       "      <th>3</th>\n",
       "      <td>857</td>\n",
       "      <td>2016-01-07</td>\n",
       "      <td>False</td>\n",
       "      <td>None</td>\n",
       "    </tr>\n",
       "    <tr>\n",
       "      <th>4</th>\n",
       "      <td>857</td>\n",
       "      <td>2016-01-08</td>\n",
       "      <td>False</td>\n",
       "      <td>None</td>\n",
       "    </tr>\n",
       "  </tbody>\n",
       "</table>\n",
       "</div>"
      ],
      "text/plain": [
       "    id      fecha  lugar_disponible precio\n",
       "0  857 2016-01-04             False   None\n",
       "1  857 2016-01-05             False   None\n",
       "2  857 2016-01-06             False   None\n",
       "3  857 2016-01-07             False   None\n",
       "4  857 2016-01-08             False   None"
      ]
     },
     "execution_count": 52,
     "metadata": {},
     "output_type": "execute_result"
    }
   ],
   "source": [
    "dt_data.head()"
   ]
  },
  {
   "cell_type": "markdown",
   "id": "2dda0e4e",
   "metadata": {},
   "source": [
    "Se buscará encontrar cuántos inmuebles habían disponible por mes"
   ]
  },
  {
   "cell_type": "code",
   "execution_count": 53,
   "id": "df83e8ab",
   "metadata": {},
   "outputs": [
    {
     "data": {
      "text/plain": [
       "0         2016-01\n",
       "1         2016-01\n",
       "2         2016-01\n",
       "3         2016-01\n",
       "4         2016-01\n",
       "           ...   \n",
       "364995    2016-12\n",
       "364996    2016-12\n",
       "364997    2016-12\n",
       "364998    2017-01\n",
       "364999    2017-01\n",
       "Name: fecha, Length: 365000, dtype: object"
      ]
     },
     "execution_count": 53,
     "metadata": {},
     "output_type": "execute_result"
    }
   ],
   "source": [
    "# Para agrupar por año y mes, cambiando el formato\n",
    "# dt -> datetime\n",
    "dt_data[\"fecha\"].dt.strftime('%Y-%m')"
   ]
  },
  {
   "cell_type": "code",
   "execution_count": 54,
   "id": "796f6632",
   "metadata": {},
   "outputs": [],
   "source": [
    "# Sumará los valores en True (porque False es 0), se podrá contar la cantidad de veces que hay un 'lugar_disponible' por mes\n",
    "subset = dt_data.groupby(dt_data[\"fecha\"].dt.strftime(\"%Y-%m\"))['lugar_disponible'].sum()"
   ]
  },
  {
   "cell_type": "code",
   "execution_count": 55,
   "id": "a14a88d5",
   "metadata": {},
   "outputs": [
    {
     "data": {
      "text/plain": [
       "fecha\n",
       "2016-01    16543\n",
       "2016-02    20128\n",
       "2016-03    23357\n",
       "2016-04    22597\n",
       "2016-05    23842\n",
       "2016-06    23651\n",
       "2016-07    22329\n",
       "2016-08    22529\n",
       "2016-09    22471\n",
       "2016-10    23765\n",
       "2016-11    23352\n",
       "2016-12    24409\n",
       "2017-01     1574\n",
       "Name: lugar_disponible, dtype: int64"
      ]
     },
     "execution_count": 55,
     "metadata": {},
     "output_type": "execute_result"
    }
   ],
   "source": [
    "subset"
   ]
  },
  {
   "cell_type": "markdown",
   "id": "86fabbd2",
   "metadata": {},
   "source": [
    "# Desafío\n",
    "\n",
    "En esta clase, aprendimos cómo manipular datos temporales usando datetime. Entendimos cómo transformar una columna a fecha y hora y luego manipular estos datos. Aun así, no todos los datos del conjunto inmuebles_disponibles.json fueron tratados.\n",
    "\n",
    "Durante las clases de este curso, descubrimos cómo transformar y trabajar con valores numéricos, por ejemplo, eliminando valores numéricos dentro de un texto y transformándolos en un tipo numérico, como int64 o float64.\n",
    "\n",
    "Sabiendo esto, en esta actividad te propongo transformar los datos de la columna precio del conjunto de datos inmuebles_disponibles.json al tipo numérico float64. Recordando que, antes de hacer esto, debes llenar los valores vacíos de la columna con un valor. Una sugerencia: reemplazar con el string '0.0'.\n",
    "\n",
    "No dudes en seguir los mismos pasos dados en clase o, si lo prefieres, realizar otras mejoras, como eliminar algunos caracteres o palabras vacías. En el apartado “Opinión del instructor” encontrarás una posible resolución para esta actividad."
   ]
  },
  {
   "cell_type": "code",
   "execution_count": 56,
   "id": "3ba87cbf",
   "metadata": {},
   "outputs": [
    {
     "data": {
      "text/plain": [
       "0            None\n",
       "1            None\n",
       "2            None\n",
       "3            None\n",
       "4            None\n",
       "           ...   \n",
       "364995    $140.00\n",
       "364996    $140.00\n",
       "364997    $140.00\n",
       "364998    $140.00\n",
       "364999       None\n",
       "Name: precio, Length: 365000, dtype: object"
      ]
     },
     "execution_count": 56,
     "metadata": {},
     "output_type": "execute_result"
    }
   ],
   "source": [
    "dt_data[\"precio\"]"
   ]
  },
  {
   "cell_type": "code",
   "execution_count": 57,
   "id": "30a56b2e",
   "metadata": {},
   "outputs": [],
   "source": [
    "# reemplazar valores vacíos con string '0.0'\n",
    "dt_data[\"precio\"].fillna('0.0', inplace=True)"
   ]
  },
  {
   "cell_type": "code",
   "execution_count": 60,
   "id": "66cf3a6a",
   "metadata": {},
   "outputs": [],
   "source": [
    "# eliminar $\n",
    "dt_data[\"precio\"] = dt_data[\"precio\"].apply(lambda x: x.replace('$', '').replace(',',''))"
   ]
  },
  {
   "cell_type": "code",
   "execution_count": 61,
   "id": "ac59e418",
   "metadata": {},
   "outputs": [],
   "source": [
    "dt_data[\"precio\"] = dt_data[\"precio\"].astype(np.float64)"
   ]
  },
  {
   "cell_type": "code",
   "execution_count": 62,
   "id": "7e0c3367",
   "metadata": {},
   "outputs": [
    {
     "data": {
      "text/plain": [
       "0           0.0\n",
       "1           0.0\n",
       "2           0.0\n",
       "3           0.0\n",
       "4           0.0\n",
       "          ...  \n",
       "364995    140.0\n",
       "364996    140.0\n",
       "364997    140.0\n",
       "364998    140.0\n",
       "364999      0.0\n",
       "Name: precio, Length: 365000, dtype: float64"
      ]
     },
     "execution_count": 62,
     "metadata": {},
     "output_type": "execute_result"
    }
   ],
   "source": [
    "dt_data[\"precio\"]"
   ]
  }
 ],
 "metadata": {
  "kernelspec": {
   "display_name": ".venv",
   "language": "python",
   "name": "python3"
  },
  "language_info": {
   "codemirror_mode": {
    "name": "ipython",
    "version": 3
   },
   "file_extension": ".py",
   "mimetype": "text/x-python",
   "name": "python",
   "nbconvert_exporter": "python",
   "pygments_lexer": "ipython3",
   "version": "3.13.2"
  }
 },
 "nbformat": 4,
 "nbformat_minor": 5
}
