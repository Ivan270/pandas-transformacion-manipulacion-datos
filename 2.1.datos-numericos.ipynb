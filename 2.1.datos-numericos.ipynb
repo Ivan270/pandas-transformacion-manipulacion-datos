{
 "cells": [
  {
   "cell_type": "markdown",
   "id": "a51f7b10",
   "metadata": {},
   "source": [
    "Datos anteriores:"
   ]
  },
  {
   "cell_type": "code",
   "execution_count": 1,
   "id": "37b3b491",
   "metadata": {},
   "outputs": [],
   "source": [
    "import pandas as pd\n",
    "\n",
    "datos = pd.read_json(\"data/datos_hosting.json\")\n",
    "datos = pd.json_normalize(datos[\"info_inmuebles\"])"
   ]
  },
  {
   "cell_type": "code",
   "execution_count": 3,
   "id": "631ef691",
   "metadata": {},
   "outputs": [
    {
     "data": {
      "text/html": [
       "<div>\n",
       "<style scoped>\n",
       "    .dataframe tbody tr th:only-of-type {\n",
       "        vertical-align: middle;\n",
       "    }\n",
       "\n",
       "    .dataframe tbody tr th {\n",
       "        vertical-align: top;\n",
       "    }\n",
       "\n",
       "    .dataframe thead th {\n",
       "        text-align: right;\n",
       "    }\n",
       "</style>\n",
       "<table border=\"1\" class=\"dataframe\">\n",
       "  <thead>\n",
       "    <tr style=\"text-align: right;\">\n",
       "      <th></th>\n",
       "      <th>evaluacion_general</th>\n",
       "      <th>experiencia_local</th>\n",
       "      <th>max_hospedes</th>\n",
       "      <th>descripcion_local</th>\n",
       "      <th>descripcion_vecindad</th>\n",
       "      <th>cantidad_baños</th>\n",
       "      <th>cantidad_cuartos</th>\n",
       "      <th>cantidad_camas</th>\n",
       "      <th>modelo_cama</th>\n",
       "      <th>comodidades</th>\n",
       "      <th>cuota_deposito</th>\n",
       "      <th>cuota_limpieza</th>\n",
       "      <th>precio</th>\n",
       "    </tr>\n",
       "  </thead>\n",
       "  <tbody>\n",
       "    <tr>\n",
       "      <th>41</th>\n",
       "      <td>8.0</td>\n",
       "      <td>--</td>\n",
       "      <td>5</td>\n",
       "      <td>[This home is full of light, art and comfort. ...</td>\n",
       "      <td>[Queen Anne is a charming and very safe neighb...</td>\n",
       "      <td>[1, 2, 1, 2, 2, 1, 2, 2, 1, 2, 2, 1, 1, 1, 1]</td>\n",
       "      <td>[2, 2, 2, 2, 2, 2, 3, 2, 2, 2, 2, 2, 1, 1, 2]</td>\n",
       "      <td>[2, 2, 2, 3, 2, 2, 2, 2, 4, 2, 4, 3, 2, 3, 3]</td>\n",
       "      <td>[Real Bed, Real Bed, Real Bed, Real Bed, Real ...</td>\n",
       "      <td>[{TV,\"Cable TV\",Internet,Kitchen,\"Free Parking...</td>\n",
       "      <td>[$0, $600.00, $400.00, $200.00, $200.00, $0, $...</td>\n",
       "      <td>[$89.00, $75.00, $100.00, $100.00, $95.00, $85...</td>\n",
       "      <td>[$109.00, $400.00, $300.00, $150.00, $145.00, ...</td>\n",
       "    </tr>\n",
       "  </tbody>\n",
       "</table>\n",
       "</div>"
      ],
      "text/plain": [
       "   evaluacion_general experiencia_local max_hospedes  \\\n",
       "41                8.0                --            5   \n",
       "\n",
       "                                    descripcion_local  \\\n",
       "41  [This home is full of light, art and comfort. ...   \n",
       "\n",
       "                                 descripcion_vecindad  \\\n",
       "41  [Queen Anne is a charming and very safe neighb...   \n",
       "\n",
       "                                   cantidad_baños  \\\n",
       "41  [1, 2, 1, 2, 2, 1, 2, 2, 1, 2, 2, 1, 1, 1, 1]   \n",
       "\n",
       "                                 cantidad_cuartos  \\\n",
       "41  [2, 2, 2, 2, 2, 2, 3, 2, 2, 2, 2, 2, 1, 1, 2]   \n",
       "\n",
       "                                   cantidad_camas  \\\n",
       "41  [2, 2, 2, 3, 2, 2, 2, 2, 4, 2, 4, 3, 2, 3, 3]   \n",
       "\n",
       "                                          modelo_cama  \\\n",
       "41  [Real Bed, Real Bed, Real Bed, Real Bed, Real ...   \n",
       "\n",
       "                                          comodidades  \\\n",
       "41  [{TV,\"Cable TV\",Internet,Kitchen,\"Free Parking...   \n",
       "\n",
       "                                       cuota_deposito  \\\n",
       "41  [$0, $600.00, $400.00, $200.00, $200.00, $0, $...   \n",
       "\n",
       "                                       cuota_limpieza  \\\n",
       "41  [$89.00, $75.00, $100.00, $100.00, $95.00, $85...   \n",
       "\n",
       "                                               precio  \n",
       "41  [$109.00, $400.00, $300.00, $150.00, $145.00, ...  "
      ]
     },
     "execution_count": 3,
     "metadata": {},
     "output_type": "execute_result"
    }
   ],
   "source": [
    "datos.sample()"
   ]
  },
  {
   "cell_type": "code",
   "execution_count": null,
   "id": "c0ca54dd",
   "metadata": {},
   "outputs": [],
   "source": []
  }
 ],
 "metadata": {
  "kernelspec": {
   "display_name": ".venv",
   "language": "python",
   "name": "python3"
  },
  "language_info": {
   "codemirror_mode": {
    "name": "ipython",
    "version": 3
   },
   "file_extension": ".py",
   "mimetype": "text/x-python",
   "name": "python",
   "nbconvert_exporter": "python",
   "pygments_lexer": "ipython3",
   "version": "3.13.2"
  }
 },
 "nbformat": 4,
 "nbformat_minor": 5
}
