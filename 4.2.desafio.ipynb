{
 "cells": [
  {
   "cell_type": "markdown",
   "id": "0baaedaf",
   "metadata": {},
   "source": [
    "# Desafío\n",
    "\n",
    "Pongamos nuevamente en práctica todo lo que aprendimos durante la clase. He puesto los 2 nuevos conjuntos de datos disponibles para descargar a continuación:\n",
    "\n",
    "- Proyecto Desafío 1: Ventas Online - dados_vendas_clientes.json;\n",
    "- Proyecto Desafío 2: Administración de Condominios - dados_locacao_imoveis.json.\n",
    "Recuerda: Estos dos proyectos de tratamiento se construyeron durante el curso. Por lo tanto, considere desarrollos previos para realizar este paso final.\n",
    "\n",
    "## Etapa 4\n",
    "\n",
    "### Proyecto Desafío 1: Ventas Online\n",
    "En los pasos anteriores ya hemos trabajado con varios tipos de datos, ahora podemos trabajar con datos de tiempo.\n",
    "\n",
    "En la columna `Fecha de venta` tenemos fechas en el formato 'día/mes/año' (`dd/mm/AAAA`). Transforme estos datos al tipo datetime y busque una forma de visualización de subconjunto que pueda contribuir al objetivo del contexto en el que se insertan los datos.\n",
    "\n",
    "Si no recuerdas el problema del Proyecto Desafío 1, te dejo el texto de la situación a continuación para que sea más fácil encontrar la información:\n",
    "\n",
    "El objetivo de este proyecto es analizar los resultados de un evento con los clientes de una empresa de venta online. Se recopiló un conjunto de datos que contiene los clientes que gastaron más en productos dentro de los 5 días posteriores a la venta, que es la duración del evento. Este análisis identificará al cliente con la mayor compra esa semana, quien recibirá un premio de la tienda, y posteriormente, puede ayudar a la empresa a crear nuevas estrategias para atraer más clientes.\n",
    "Copia el código\n",
    "\n",
    "### Proyecto Desafío 2: Administración de Condominios\n",
    "Al igual que en el Proyecto Desafío 1, trabajamos con todas las columnas excepto las que involucran fechas.\n",
    "\n",
    "En las columnas `datas_de_pagamento` y `datas_combinadas_pagamento` tenemos fechas en el formato 'día/mes/año' (`dd/mm/AAAA`). Transforme estos datos al tipo datetime y busque una forma de visualización de subconjunto que pueda contribuir al objetivo del contexto en el que se insertan los datos."
   ]
  },
  {
   "cell_type": "markdown",
   "id": "772fa9b5",
   "metadata": {},
   "source": [
    "# Datos anteriores"
   ]
  },
  {
   "cell_type": "code",
   "execution_count": 40,
   "id": "ab55b379",
   "metadata": {},
   "outputs": [],
   "source": [
    "import pandas as pd\n",
    "import numpy as np\n",
    "\n",
    "datos = pd.read_json(\"data/datos_hosting.json\")\n",
    "datos = pd.json_normalize(datos[\"info_inmuebles\"])\n",
    "\n",
    "columnas = list(datos.columns)\n",
    "\n",
    "datos = datos.explode(columnas[3:])\n",
    "datos.reset_index(inplace=True, drop=True)\n",
    "\n",
    "datos[\"max_hospedes\"] = datos[\"max_hospedes\"].astype(np.int64)\n",
    "datos[[\"cantidad_baños\", \"cantidad_cuartos\", \"cantidad_camas\"]] = datos[\n",
    "    [\"cantidad_baños\", \"cantidad_cuartos\", \"cantidad_camas\"]\n",
    "].astype(np.int64)\n",
    "datos[\"evaluacion_general\"] = datos[\"evaluacion_general\"].astype(np.float64)\n",
    "datos.precio = datos.precio.apply(lambda x: x.replace(\"$\", \"\").replace(\",\", \"\").strip())\n",
    "datos[\"precio\"] = datos[\"precio\"].astype(np.float64)\n",
    "datos[[\"cuota_deposito\", \"cuota_limpieza\"]] = datos[\n",
    "    [\"cuota_deposito\", \"cuota_limpieza\"]\n",
    "].map(lambda x: x.replace(\"$\", \"\").replace(\",\", \"\").strip())\n",
    "datos[[\"cuota_deposito\", \"cuota_limpieza\"]] = datos[\n",
    "    [\"cuota_deposito\", \"cuota_limpieza\"]\n",
    "].astype(np.float64)\n",
    "datos[\"descripcion_local\"] = datos[\"descripcion_local\"].str.lower()\n",
    "datos[\"descripcion_vecindad\"] = datos[\"descripcion_vecindad\"].str.lower()\n",
    "datos[\"descripcion_local\"] = datos[\"descripcion_local\"].str.replace(\n",
    "    r\"[^a-zA-Z0-9\\-\\']\", \" \", regex=True\n",
    ")\n",
    "datos[\"descripcion_local\"] = datos[\"descripcion_local\"].str.replace(\n",
    "    r\"(?<!\\w)-(?!\\w)\", \" \", regex=True\n",
    ")\n",
    "datos[\"descripcion_local\"] = datos[\"descripcion_local\"].str.split()\n",
    "datos[\"comodidades\"] = datos[\"comodidades\"].str.replace(r'\\{|}|\"', \"\", regex=True)\n",
    "datos[\"comodidades\"] = datos[\"comodidades\"].str.split(\",\")\n",
    "\n",
    "# eliminar caracteres extraños\n",
    "datos[\"descripcion_vecindad\"] = datos[\"descripcion_vecindad\"].str.replace(\n",
    "    r\"[^a-zA-Z0-9\\-\\']\", \" \", regex=True\n",
    ")\n",
    "\n",
    "# cuidar uso de guiones\n",
    "datos[\"descripcion_vecindad\"] = datos[\"descripcion_vecindad\"].str.replace(\n",
    "    r\"(?<!\\w)-(?!\\w)\", \" \", regex=True\n",
    ")\n",
    "\n",
    "# transformar en lista\n",
    "datos[\"descripcion_vecindad\"] = datos[\"descripcion_vecindad\"].str.split()\n",
    "\n",
    "datos_ventas = pd.read_json(\"data/datos_ventas_clientes.json\")\n",
    "datos_ventas = pd.json_normalize(datos_ventas[\"dados_vendas\"])\n",
    "\n",
    "datos_inmueble = pd.read_json(\"data/datos_locacion_inmuebles.json\")\n",
    "datos_inmueble = pd.json_normalize(datos_inmueble[\"dados_locacao\"])\n",
    "columnas = list(datos_inmueble.columns)\n",
    "datos_inmueble = datos_inmueble.explode(columnas[1:])\n",
    "datos_inmueble.reset_index(inplace=True, drop=True)\n",
    "datos_inmueble[\"valor_aluguel\"] = datos_inmueble[\"valor_aluguel\"].apply(\n",
    "    lambda x: x.replace(\"$\", \"\").replace(\"reais\", \"\").replace(\",\", \".\").strip()\n",
    ")\n",
    "datos_inmueble[\"valor_aluguel\"] = datos_inmueble[\"valor_aluguel\"].astype(np.float64)\n",
    "\n",
    "columnas = list(datos_ventas.columns)\n",
    "datos_ventas = datos_ventas.explode(columnas[1:])\n",
    "datos_ventas.reset_index(inplace=True, drop=True)\n",
    "datos_ventas[\"Valor da compra\"] = datos_ventas[\"Valor da compra\"].apply(\n",
    "    lambda x: x.replace(\"R$\", \"\").replace(\",\", \".\").strip()\n",
    ")\n",
    "datos_ventas[\"Valor da compra\"] = datos_ventas[\"Valor da compra\"].astype(np.float64)\n",
    "\n",
    "datos_ventas[\"Cliente\"] = datos_ventas[\"Cliente\"].str.lower()\n",
    "datos_ventas[\"Cliente\"] = datos_ventas[\"Cliente\"].str.replace(\n",
    "    r\"[^a-zA-Z\\s]\", \"\", regex=True\n",
    ")\n",
    "datos_inmueble[\"apartamento\"] = datos_inmueble[\"apartamento\"].str.replace(\n",
    "    \"(blocoAP)\", \"\"\n",
    ")\n"
   ]
  },
  {
   "cell_type": "markdown",
   "id": "241c65e6",
   "metadata": {},
   "source": [
    "# Desafío 1"
   ]
  },
  {
   "cell_type": "code",
   "execution_count": 41,
   "id": "6929ac94",
   "metadata": {},
   "outputs": [],
   "source": [
    "datos_ventas[\"Data de venda\"] = pd.to_datetime(\n",
    "    datos_ventas[\"Data de venda\"], format=\"%d/%m/%Y\"\n",
    ")"
   ]
  },
  {
   "cell_type": "code",
   "execution_count": 42,
   "id": "399d82dd",
   "metadata": {},
   "outputs": [
    {
     "data": {
      "text/html": [
       "<div>\n",
       "<style scoped>\n",
       "    .dataframe tbody tr th:only-of-type {\n",
       "        vertical-align: middle;\n",
       "    }\n",
       "\n",
       "    .dataframe tbody tr th {\n",
       "        vertical-align: top;\n",
       "    }\n",
       "\n",
       "    .dataframe thead th {\n",
       "        text-align: right;\n",
       "    }\n",
       "</style>\n",
       "<table border=\"1\" class=\"dataframe\">\n",
       "  <thead>\n",
       "    <tr style=\"text-align: right;\">\n",
       "      <th></th>\n",
       "      <th>Data de venda</th>\n",
       "      <th>Cliente</th>\n",
       "      <th>Valor da compra</th>\n",
       "    </tr>\n",
       "  </thead>\n",
       "  <tbody>\n",
       "    <tr>\n",
       "      <th>0</th>\n",
       "      <td>2022-06-06</td>\n",
       "      <td>ana lucia</td>\n",
       "      <td>836.50</td>\n",
       "    </tr>\n",
       "    <tr>\n",
       "      <th>1</th>\n",
       "      <td>2022-06-06</td>\n",
       "      <td>diego armandiu</td>\n",
       "      <td>573.33</td>\n",
       "    </tr>\n",
       "    <tr>\n",
       "      <th>2</th>\n",
       "      <td>2022-06-06</td>\n",
       "      <td>diego armandiu</td>\n",
       "      <td>392.80</td>\n",
       "    </tr>\n",
       "    <tr>\n",
       "      <th>3</th>\n",
       "      <td>2022-06-06</td>\n",
       "      <td>diego armandiu</td>\n",
       "      <td>512.34</td>\n",
       "    </tr>\n",
       "    <tr>\n",
       "      <th>4</th>\n",
       "      <td>2022-06-07</td>\n",
       "      <td>isabely joanes</td>\n",
       "      <td>825.31</td>\n",
       "    </tr>\n",
       "  </tbody>\n",
       "</table>\n",
       "</div>"
      ],
      "text/plain": [
       "  Data de venda          Cliente  Valor da compra\n",
       "0    2022-06-06       ana lucia            836.50\n",
       "1    2022-06-06  diego armandiu            573.33\n",
       "2    2022-06-06  diego armandiu            392.80\n",
       "3    2022-06-06  diego armandiu            512.34\n",
       "4    2022-06-07  isabely joanes            825.31"
      ]
     },
     "execution_count": 42,
     "metadata": {},
     "output_type": "execute_result"
    }
   ],
   "source": [
    "datos_ventas.head()"
   ]
  },
  {
   "cell_type": "code",
   "execution_count": 43,
   "id": "67541645",
   "metadata": {},
   "outputs": [
    {
     "name": "stdout",
     "output_type": "stream",
     "text": [
      "<class 'pandas.core.frame.DataFrame'>\n",
      "RangeIndex: 20 entries, 0 to 19\n",
      "Data columns (total 3 columns):\n",
      " #   Column           Non-Null Count  Dtype         \n",
      "---  ------           --------------  -----         \n",
      " 0   Data de venda    20 non-null     datetime64[ns]\n",
      " 1   Cliente          20 non-null     object        \n",
      " 2   Valor da compra  20 non-null     float64       \n",
      "dtypes: datetime64[ns](1), float64(1), object(1)\n",
      "memory usage: 612.0+ bytes\n"
     ]
    }
   ],
   "source": [
    "datos_ventas.info()"
   ]
  },
  {
   "cell_type": "code",
   "execution_count": 44,
   "id": "cebb76df",
   "metadata": {},
   "outputs": [
    {
     "data": {
      "text/plain": [
       "Cliente\n",
       "ana lucia           836.50\n",
       "diego armandiu     1478.47\n",
       "isabely joanes     2329.30\n",
       "joo gabriel         386.34\n",
       "julya meireles     1643.74\n",
       "maria julia        2086.65\n",
       "paulo castro        899.16\n",
       "pedro pasco         311.15\n",
       "thiago fritzz       885.24\n",
       "Name: Valor da compra, dtype: float64"
      ]
     },
     "execution_count": 44,
     "metadata": {},
     "output_type": "execute_result"
    }
   ],
   "source": [
    "total_compras = datos_ventas.groupby([\"Cliente\"])['Valor da compra'].sum()\n",
    "total_compras"
   ]
  },
  {
   "cell_type": "code",
   "execution_count": 45,
   "id": "071e6f1a",
   "metadata": {},
   "outputs": [
    {
     "data": {
      "text/plain": [
       "0     2022-06\n",
       "1     2022-06\n",
       "2     2022-06\n",
       "3     2022-06\n",
       "4     2022-06\n",
       "5     2022-06\n",
       "6     2022-06\n",
       "7     2022-06\n",
       "8     2022-06\n",
       "9     2022-06\n",
       "10    2022-06\n",
       "11    2022-06\n",
       "12    2022-06\n",
       "13    2022-06\n",
       "14    2022-06\n",
       "15    2022-06\n",
       "16    2022-06\n",
       "17    2022-06\n",
       "18    2022-06\n",
       "19    2022-06\n",
       "Name: Data de venda, dtype: object"
      ]
     },
     "execution_count": 45,
     "metadata": {},
     "output_type": "execute_result"
    }
   ],
   "source": [
    "datos_ventas[\"Data de venda\"].dt.strftime('%Y-%m')"
   ]
  },
  {
   "cell_type": "code",
   "execution_count": 46,
   "id": "5169f1b3",
   "metadata": {},
   "outputs": [
    {
     "data": {
      "text/plain": [
       "Data de venda\n",
       "2022-06    10856.55\n",
       "Name: Valor da compra, dtype: float64"
      ]
     },
     "execution_count": 46,
     "metadata": {},
     "output_type": "execute_result"
    }
   ],
   "source": [
    "ventas_fecha = datos_ventas.groupby(datos_ventas[\"Data de venda\"].dt.strftime(\"%Y-%m\"))[\n",
    "    \"Valor da compra\"\n",
    "].sum()\n",
    "ventas_fecha"
   ]
  },
  {
   "cell_type": "markdown",
   "id": "0c1d4660",
   "metadata": {},
   "source": [
    "# Desafío 2"
   ]
  },
  {
   "cell_type": "code",
   "execution_count": 48,
   "id": "6d3b32b5",
   "metadata": {},
   "outputs": [
    {
     "data": {
      "text/html": [
       "<div>\n",
       "<style scoped>\n",
       "    .dataframe tbody tr th:only-of-type {\n",
       "        vertical-align: middle;\n",
       "    }\n",
       "\n",
       "    .dataframe tbody tr th {\n",
       "        vertical-align: top;\n",
       "    }\n",
       "\n",
       "    .dataframe thead th {\n",
       "        text-align: right;\n",
       "    }\n",
       "</style>\n",
       "<table border=\"1\" class=\"dataframe\">\n",
       "  <thead>\n",
       "    <tr style=\"text-align: right;\">\n",
       "      <th></th>\n",
       "      <th>apartamento</th>\n",
       "      <th>datas_combinadas_pagamento</th>\n",
       "      <th>datas_de_pagamento</th>\n",
       "      <th>valor_aluguel</th>\n",
       "    </tr>\n",
       "  </thead>\n",
       "  <tbody>\n",
       "    <tr>\n",
       "      <th>0</th>\n",
       "      <td>A101</td>\n",
       "      <td>01/06/2022</td>\n",
       "      <td>05/06/2022</td>\n",
       "      <td>1000.0</td>\n",
       "    </tr>\n",
       "    <tr>\n",
       "      <th>1</th>\n",
       "      <td>A101</td>\n",
       "      <td>01/07/2022</td>\n",
       "      <td>03/07/2022</td>\n",
       "      <td>2500.0</td>\n",
       "    </tr>\n",
       "    <tr>\n",
       "      <th>2</th>\n",
       "      <td>A102</td>\n",
       "      <td>02/06/2022</td>\n",
       "      <td>02/06/2022</td>\n",
       "      <td>1100.0</td>\n",
       "    </tr>\n",
       "    <tr>\n",
       "      <th>3</th>\n",
       "      <td>A102</td>\n",
       "      <td>02/07/2022</td>\n",
       "      <td>06/07/2022</td>\n",
       "      <td>2600.0</td>\n",
       "    </tr>\n",
       "    <tr>\n",
       "      <th>4</th>\n",
       "      <td>B201</td>\n",
       "      <td>03/06/2022</td>\n",
       "      <td>07/06/2022</td>\n",
       "      <td>1200.0</td>\n",
       "    </tr>\n",
       "  </tbody>\n",
       "</table>\n",
       "</div>"
      ],
      "text/plain": [
       "  apartamento datas_combinadas_pagamento datas_de_pagamento  valor_aluguel\n",
       "0       A101                  01/06/2022         05/06/2022         1000.0\n",
       "1       A101                  01/07/2022         03/07/2022         2500.0\n",
       "2       A102                  02/06/2022         02/06/2022         1100.0\n",
       "3       A102                  02/07/2022         06/07/2022         2600.0\n",
       "4       B201                  03/06/2022         07/06/2022         1200.0"
      ]
     },
     "execution_count": 48,
     "metadata": {},
     "output_type": "execute_result"
    }
   ],
   "source": [
    "datos_inmueble.head()"
   ]
  },
  {
   "cell_type": "code",
   "execution_count": null,
   "id": "e15e4315",
   "metadata": {},
   "outputs": [],
   "source": [
    "# transformar columnas en datetime\n",
    "cols = datos_inmueble.columns[1:3]\n",
    "datos_inmueble[cols] = datos_inmueble[cols].apply(pd.to_datetime, format='%d/%m/%Y')"
   ]
  },
  {
   "cell_type": "markdown",
   "id": "5d3c9057",
   "metadata": {},
   "source": [
    "- apply -> para una fila o columna\n",
    "- map -> funciona en una Series"
   ]
  },
  {
   "cell_type": "code",
   "execution_count": 68,
   "id": "7e5c9448",
   "metadata": {},
   "outputs": [
    {
     "name": "stdout",
     "output_type": "stream",
     "text": [
      "<class 'pandas.core.frame.DataFrame'>\n",
      "RangeIndex: 30 entries, 0 to 29\n",
      "Data columns (total 4 columns):\n",
      " #   Column                      Non-Null Count  Dtype         \n",
      "---  ------                      --------------  -----         \n",
      " 0   apartamento                 30 non-null     object        \n",
      " 1   datas_combinadas_pagamento  30 non-null     datetime64[ns]\n",
      " 2   datas_de_pagamento          30 non-null     datetime64[ns]\n",
      " 3   valor_aluguel               30 non-null     float64       \n",
      "dtypes: datetime64[ns](2), float64(1), object(1)\n",
      "memory usage: 1.1+ KB\n"
     ]
    }
   ],
   "source": [
    "datos_inmueble.info()"
   ]
  },
  {
   "cell_type": "code",
   "execution_count": 75,
   "id": "910bf4ff",
   "metadata": {},
   "outputs": [],
   "source": [
    "# calcular retraso pagos\n",
    "datos_inmueble[\"retraso_pagos\"] = datos_inmueble[\"datas_de_pagamento\"] - datos_inmueble[\"datas_combinadas_pagamento\"]"
   ]
  },
  {
   "cell_type": "code",
   "execution_count": 77,
   "id": "acf41b55",
   "metadata": {},
   "outputs": [
    {
     "data": {
      "text/html": [
       "<div>\n",
       "<style scoped>\n",
       "    .dataframe tbody tr th:only-of-type {\n",
       "        vertical-align: middle;\n",
       "    }\n",
       "\n",
       "    .dataframe tbody tr th {\n",
       "        vertical-align: top;\n",
       "    }\n",
       "\n",
       "    .dataframe thead th {\n",
       "        text-align: right;\n",
       "    }\n",
       "</style>\n",
       "<table border=\"1\" class=\"dataframe\">\n",
       "  <thead>\n",
       "    <tr style=\"text-align: right;\">\n",
       "      <th></th>\n",
       "      <th>apartamento</th>\n",
       "      <th>datas_combinadas_pagamento</th>\n",
       "      <th>datas_de_pagamento</th>\n",
       "      <th>valor_aluguel</th>\n",
       "      <th>retraso_pagos</th>\n",
       "    </tr>\n",
       "  </thead>\n",
       "  <tbody>\n",
       "    <tr>\n",
       "      <th>0</th>\n",
       "      <td>A101</td>\n",
       "      <td>2022-06-01</td>\n",
       "      <td>2022-06-05</td>\n",
       "      <td>1000.0</td>\n",
       "      <td>4 days</td>\n",
       "    </tr>\n",
       "    <tr>\n",
       "      <th>1</th>\n",
       "      <td>A101</td>\n",
       "      <td>2022-07-01</td>\n",
       "      <td>2022-07-03</td>\n",
       "      <td>2500.0</td>\n",
       "      <td>2 days</td>\n",
       "    </tr>\n",
       "    <tr>\n",
       "      <th>2</th>\n",
       "      <td>A102</td>\n",
       "      <td>2022-06-02</td>\n",
       "      <td>2022-06-02</td>\n",
       "      <td>1100.0</td>\n",
       "      <td>0 days</td>\n",
       "    </tr>\n",
       "    <tr>\n",
       "      <th>3</th>\n",
       "      <td>A102</td>\n",
       "      <td>2022-07-02</td>\n",
       "      <td>2022-07-06</td>\n",
       "      <td>2600.0</td>\n",
       "      <td>4 days</td>\n",
       "    </tr>\n",
       "    <tr>\n",
       "      <th>4</th>\n",
       "      <td>B201</td>\n",
       "      <td>2022-06-03</td>\n",
       "      <td>2022-06-07</td>\n",
       "      <td>1200.0</td>\n",
       "      <td>4 days</td>\n",
       "    </tr>\n",
       "  </tbody>\n",
       "</table>\n",
       "</div>"
      ],
      "text/plain": [
       "  apartamento datas_combinadas_pagamento datas_de_pagamento  valor_aluguel  \\\n",
       "0       A101                  2022-06-01         2022-06-05         1000.0   \n",
       "1       A101                  2022-07-01         2022-07-03         2500.0   \n",
       "2       A102                  2022-06-02         2022-06-02         1100.0   \n",
       "3       A102                  2022-07-02         2022-07-06         2600.0   \n",
       "4       B201                  2022-06-03         2022-06-07         1200.0   \n",
       "\n",
       "  retraso_pagos  \n",
       "0        4 days  \n",
       "1        2 days  \n",
       "2        0 days  \n",
       "3        4 days  \n",
       "4        4 days  "
      ]
     },
     "execution_count": 77,
     "metadata": {},
     "output_type": "execute_result"
    }
   ],
   "source": [
    "datos_inmueble.head()"
   ]
  },
  {
   "cell_type": "code",
   "execution_count": 80,
   "id": "deb3e14e",
   "metadata": {},
   "outputs": [],
   "source": [
    "media_retrasos= datos_inmueble.groupby([\"apartamento\"])[\"retraso_pagos\"].mean()"
   ]
  },
  {
   "cell_type": "code",
   "execution_count": 82,
   "id": "7b27d667",
   "metadata": {},
   "outputs": [
    {
     "data": {
      "text/plain": [
       "apartamento\n",
       "E501    0 days 12:00:00\n",
       "D401    1 days 00:00:00\n",
       "F602    1 days 12:00:00\n",
       "A102    2 days 00:00:00\n",
       "B201    2 days 00:00:00\n",
       "B202    2 days 00:00:00\n",
       "G702    2 days 00:00:00\n",
       "H801    2 days 00:00:00\n",
       "A101    3 days 00:00:00\n",
       "C302    4 days 00:00:00\n",
       "D402    4 days 00:00:00\n",
       "E502    4 days 00:00:00\n",
       "F601    4 days 00:00:00\n",
       "C301    4 days 12:00:00\n",
       "G701    6 days 12:00:00\n",
       "Name: retraso_pagos, dtype: timedelta64[ns]"
      ]
     },
     "execution_count": 82,
     "metadata": {},
     "output_type": "execute_result"
    }
   ],
   "source": [
    "media_retrasos.sort_values()"
   ]
  },
  {
   "cell_type": "code",
   "execution_count": 83,
   "id": "affc3883",
   "metadata": {},
   "outputs": [
    {
     "data": {
      "text/html": [
       "<div>\n",
       "<style scoped>\n",
       "    .dataframe tbody tr th:only-of-type {\n",
       "        vertical-align: middle;\n",
       "    }\n",
       "\n",
       "    .dataframe tbody tr th {\n",
       "        vertical-align: top;\n",
       "    }\n",
       "\n",
       "    .dataframe thead th {\n",
       "        text-align: right;\n",
       "    }\n",
       "</style>\n",
       "<table border=\"1\" class=\"dataframe\">\n",
       "  <thead>\n",
       "    <tr style=\"text-align: right;\">\n",
       "      <th></th>\n",
       "      <th>datas_combinadas_pagamento</th>\n",
       "      <th>datas_de_pagamento</th>\n",
       "      <th>valor_aluguel</th>\n",
       "      <th>retraso_pagos</th>\n",
       "    </tr>\n",
       "  </thead>\n",
       "  <tbody>\n",
       "    <tr>\n",
       "      <th>count</th>\n",
       "      <td>30</td>\n",
       "      <td>30</td>\n",
       "      <td>30.000000</td>\n",
       "      <td>30</td>\n",
       "    </tr>\n",
       "    <tr>\n",
       "      <th>mean</th>\n",
       "      <td>2022-06-23 00:00:00</td>\n",
       "      <td>2022-06-25 20:48:00</td>\n",
       "      <td>1786.666667</td>\n",
       "      <td>2 days 20:48:00</td>\n",
       "    </tr>\n",
       "    <tr>\n",
       "      <th>min</th>\n",
       "      <td>2022-06-01 00:00:00</td>\n",
       "      <td>2022-06-02 00:00:00</td>\n",
       "      <td>1000.000000</td>\n",
       "      <td>0 days 00:00:00</td>\n",
       "    </tr>\n",
       "    <tr>\n",
       "      <th>25%</th>\n",
       "      <td>2022-06-08 06:00:00</td>\n",
       "      <td>2022-06-10 00:00:00</td>\n",
       "      <td>1300.000000</td>\n",
       "      <td>1 days 00:00:00</td>\n",
       "    </tr>\n",
       "    <tr>\n",
       "      <th>50%</th>\n",
       "      <td>2022-06-23 00:00:00</td>\n",
       "      <td>2022-06-26 00:00:00</td>\n",
       "      <td>1650.000000</td>\n",
       "      <td>2 days 12:00:00</td>\n",
       "    </tr>\n",
       "    <tr>\n",
       "      <th>75%</th>\n",
       "      <td>2022-07-07 18:00:00</td>\n",
       "      <td>2022-07-11 06:00:00</td>\n",
       "      <td>2200.000000</td>\n",
       "      <td>4 days 00:00:00</td>\n",
       "    </tr>\n",
       "    <tr>\n",
       "      <th>max</th>\n",
       "      <td>2022-07-15 00:00:00</td>\n",
       "      <td>2022-07-20 00:00:00</td>\n",
       "      <td>2900.000000</td>\n",
       "      <td>7 days 00:00:00</td>\n",
       "    </tr>\n",
       "    <tr>\n",
       "      <th>std</th>\n",
       "      <td>NaN</td>\n",
       "      <td>NaN</td>\n",
       "      <td>579.377391</td>\n",
       "      <td>2 days 03:52:17.252992466</td>\n",
       "    </tr>\n",
       "  </tbody>\n",
       "</table>\n",
       "</div>"
      ],
      "text/plain": [
       "      datas_combinadas_pagamento   datas_de_pagamento  valor_aluguel  \\\n",
       "count                         30                   30      30.000000   \n",
       "mean         2022-06-23 00:00:00  2022-06-25 20:48:00    1786.666667   \n",
       "min          2022-06-01 00:00:00  2022-06-02 00:00:00    1000.000000   \n",
       "25%          2022-06-08 06:00:00  2022-06-10 00:00:00    1300.000000   \n",
       "50%          2022-06-23 00:00:00  2022-06-26 00:00:00    1650.000000   \n",
       "75%          2022-07-07 18:00:00  2022-07-11 06:00:00    2200.000000   \n",
       "max          2022-07-15 00:00:00  2022-07-20 00:00:00    2900.000000   \n",
       "std                          NaN                  NaN     579.377391   \n",
       "\n",
       "                   retraso_pagos  \n",
       "count                         30  \n",
       "mean             2 days 20:48:00  \n",
       "min              0 days 00:00:00  \n",
       "25%              1 days 00:00:00  \n",
       "50%              2 days 12:00:00  \n",
       "75%              4 days 00:00:00  \n",
       "max              7 days 00:00:00  \n",
       "std    2 days 03:52:17.252992466  "
      ]
     },
     "execution_count": 83,
     "metadata": {},
     "output_type": "execute_result"
    }
   ],
   "source": [
    "datos_inmueble.describe()"
   ]
  }
 ],
 "metadata": {
  "kernelspec": {
   "display_name": ".venv",
   "language": "python",
   "name": "python3"
  },
  "language_info": {
   "codemirror_mode": {
    "name": "ipython",
    "version": 3
   },
   "file_extension": ".py",
   "mimetype": "text/x-python",
   "name": "python",
   "nbconvert_exporter": "python",
   "pygments_lexer": "ipython3",
   "version": "3.13.2"
  }
 },
 "nbformat": 4,
 "nbformat_minor": 5
}
