{
 "cells": [
  {
   "cell_type": "markdown",
   "id": "4ffb6ebb",
   "metadata": {},
   "source": [
    "# El problema del texto"
   ]
  }
 ],
 "metadata": {
  "kernelspec": {
   "display_name": ".venv",
   "language": "python",
   "name": "python3"
  },
  "language_info": {
   "name": "python",
   "version": "3.13.2"
  }
 },
 "nbformat": 4,
 "nbformat_minor": 5
}
